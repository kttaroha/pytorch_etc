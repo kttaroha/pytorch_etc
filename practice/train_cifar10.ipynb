{
 "cells": [
  {
   "cell_type": "code",
   "execution_count": 1,
   "metadata": {},
   "outputs": [],
   "source": [
    "import os\n",
    "from sklearn.metrics import accuracy_score\n",
    "\n",
    "import torch \n",
    "from torch import optim\n",
    "import sys \n",
    "from torchvision import datasets\n",
    "from torchvision.transforms import transforms\n",
    "import matplotlib.pyplot as plt\n",
    "from torch.utils.data import DataLoader\n",
    "from torch.nn.parallel import DistributedDataParallel as DDP\n",
    "import torch.multiprocessing as mp\n",
    "\n",
    "from models.resnet import *\n",
    "import socket\n",
    "\n",
    "\n",
    "import datetime"
   ]
  },
  {
   "cell_type": "markdown",
   "metadata": {},
   "source": [
    "## CIFAR-10の準備"
   ]
  },
  {
   "cell_type": "code",
   "execution_count": 2,
   "metadata": {},
   "outputs": [
    {
     "name": "stdout",
     "output_type": "stream",
     "text": [
      "Files already downloaded and verified\n",
      "Files already downloaded and verified\n"
     ]
    }
   ],
   "source": [
    "data_path = \"./data/\"\n",
    "cifar10_train = datasets.CIFAR10(data_path, train=True, download=True, transform=transforms.ToTensor())\n",
    "cifar10_test = datasets.CIFAR10(data_path, train=False, download=True, transform=transforms.ToTensor())"
   ]
  },
  {
   "cell_type": "code",
   "execution_count": 3,
   "metadata": {},
   "outputs": [
    {
     "data": {
      "text/plain": [
       "torch.Size([3, 32, 32])"
      ]
     },
     "execution_count": 3,
     "metadata": {},
     "output_type": "execute_result"
    }
   ],
   "source": [
    "img, label = cifar10_train[99]\n",
    "img.shape"
   ]
  },
  {
   "cell_type": "code",
   "execution_count": 4,
   "metadata": {},
   "outputs": [
    {
     "data": {
      "text/plain": [
       "<matplotlib.image.AxesImage at 0x1553cd0599b0>"
      ]
     },
     "execution_count": 4,
     "metadata": {},
     "output_type": "execute_result"
    },
    {
     "data": {
      "image/png": "[encoded data removed]",
      "text/plain": [
       "<Figure size 432x288 with 1 Axes>"
      ]
     },
     "metadata": {
      "needs_background": "light"
     },
     "output_type": "display_data"
    }
   ],
   "source": [
    "plt.imshow(img.permute(1,2,0))"
   ]
  },
  {
   "cell_type": "markdown",
   "metadata": {},
   "source": [
    "## imageのaugumentationや正規化を実施した上で、再度cifar10を読み込む\n",
    "- 学習データセットのチャネルごとの平均と標準偏差を用いて、学習データセット、テストデータセットの両方を正規化\n",
    "- テストデータセットではaugumentation"
   ]
  },
  {
   "cell_type": "code",
   "execution_count": 5,
   "metadata": {},
   "outputs": [],
   "source": [
    "train_img_stack = torch.stack([img_t for img_t, _ in cifar10_train])\n",
    "mean_train = train_img_stack.view(3, -1).mean(dim=1)\n",
    "std_train = train_img_stack.view(3, -1).std(dim=1)"
   ]
  },
  {
   "cell_type": "code",
   "execution_count": 6,
   "metadata": {},
   "outputs": [
    {
     "name": "stdout",
     "output_type": "stream",
     "text": [
      "Files already downloaded and verified\n",
      "Files already downloaded and verified\n"
     ]
    }
   ],
   "source": [
    "transforms_train = transforms.Compose(\n",
    "    [\n",
    "        transforms.RandomCrop(32, padding=4),\n",
    "        transforms.RandomHorizontalFlip(),\n",
    "        transforms.RandomRotation(15),\n",
    "        transforms.ToTensor(),\n",
    "        transforms.Normalize(mean_train, std_train)\n",
    "    ]\n",
    ")\n",
    "\n",
    "transforms_test = transforms.Compose(\n",
    "    [\n",
    "        transforms.ToTensor(),\n",
    "        transforms.Normalize(mean_train, std_train)\n",
    "    ]\n",
    ")\n",
    "\n",
    "\n",
    "cifar10_train_dataset_aug = datasets.CIFAR10(data_path, train=True, download=True, transform=transforms_train)\n",
    "cifar10_test_dataset = datasets.CIFAR10(data_path, train=False, download=True, transform=transforms_test)"
   ]
  },
  {
   "cell_type": "markdown",
   "metadata": {},
   "source": [
    "## DataLoaderを定義する"
   ]
  },
  {
   "cell_type": "code",
   "execution_count": 7,
   "metadata": {},
   "outputs": [],
   "source": [
    "cifar10_train_dataloader = DataLoader(cifar10_train_dataset_aug, batch_size=64, shuffle=True)\n",
    "cifar10_test_dataloader = DataLoader(cifar10_test_dataset, batch_size=64, shuffle=False)"
   ]
  },
  {
   "cell_type": "markdown",
   "metadata": {},
   "source": [
    "## 学習用のセットアップを行う\n",
    "- モデルの定義\n",
    "- 損失関数の定義\n",
    "- Optimizerの定義"
   ]
  },
  {
   "cell_type": "code",
   "execution_count": 8,
   "metadata": {},
   "outputs": [],
   "source": [
    "device = (torch.device('cuda') if torch.cuda.is_available() else torch.device('cpu'))\n",
    "\n",
    "# モデルの定義\n",
    "resnet18 = ResNet(BasicBlock, [2, 2, 2, 2], 10)\n",
    "resnet18.to(device=device)\n",
    "# 損失関数の定義\n",
    "loss_fn = nn.CrossEntropyLoss()\n",
    "# Optimizerの定義\n",
    "optimizer = optim.SGD(resnet18.parameters(), lr=1e-3)"
   ]
  },
  {
   "cell_type": "code",
   "execution_count": 9,
   "metadata": {},
   "outputs": [],
   "source": [
    "def train_model(model, optimizer, loss_fn, train_dataloader, test_dataloader, n_epochs):\n",
    "    model.train()\n",
    "    for n_epoch in range(n_epochs):\n",
    "        loss_train = 0.0\n",
    "        for imgs, labels in train_dataloader:\n",
    "            imgs = imgs.to(device=device)\n",
    "            labels = labels.to(device=device)\n",
    "            outputs = model(imgs)\n",
    "            loss = loss_fn(outputs, labels)\n",
    "\n",
    "            optimizer.zero_grad()\n",
    "            loss.backward()\n",
    "            optimizer.step()\n",
    "            loss_train += loss.item()\n",
    "    \n",
    "        \n",
    "        print(f'{datetime.datetime.now()} Epoch {n_epoch}, Training loss {loss_train / len(train_dataloader.dataset)}')\n",
    "        eval_model(model, test_dataloader)\n",
    "    return model\n",
    "\n",
    "\n",
    "def eval_model(model, test_dataloader):\n",
    "    model.eval()\n",
    "    num_correct = 0\n",
    "    for imgs, labels in test_dataloader:\n",
    "        imgs = imgs.to(device=device)\n",
    "        labels = labels.to(device=device)\n",
    "        outputs = model(imgs)\n",
    "        num_correct += sum(outputs.argmax(axis=1) == labels).item()\n",
    "    \n",
    "    print(f\"Accuracy {num_correct / len(test_dataloader.dataset)}\")"
   ]
  },
  {
   "cell_type": "markdown",
   "metadata": {},
   "source": [
    "## 学習を実施"
   ]
  },
  {
   "cell_type": "code",
   "execution_count": null,
   "metadata": {},
   "outputs": [
    {
     "name": "stdout",
     "output_type": "stream",
     "text": [
      "2022-09-25 23:23:55.374997 Epoch 0, Training loss 0.030016513109207152\n",
      "Accuracy 0.3783\n",
      "2022-09-25 23:24:30.263080 Epoch 1, Training loss 0.027630066032409667\n",
      "Accuracy 0.3546\n",
      "2022-09-25 23:25:05.166485 Epoch 2, Training loss 0.02436999591588974\n",
      "Accuracy 0.3847\n",
      "2022-09-25 23:25:39.978515 Epoch 3, Training loss 0.02282743285894394\n",
      "Accuracy 0.4173\n",
      "2022-09-25 23:26:14.797814 Epoch 4, Training loss 0.021661278488636016\n",
      "Accuracy 0.4864\n",
      "2022-09-25 23:26:49.608673 Epoch 5, Training loss 0.020636741350889207\n",
      "Accuracy 0.4246\n",
      "2022-09-25 23:27:24.385447 Epoch 6, Training loss 0.019754293645620345\n",
      "Accuracy 0.4822\n",
      "2022-09-25 23:27:59.160464 Epoch 7, Training loss 0.018988832066059114\n",
      "Accuracy 0.4835\n",
      "2022-09-25 23:28:33.948881 Epoch 8, Training loss 0.018258316884040834\n",
      "Accuracy 0.3638\n",
      "2022-09-25 23:29:08.785098 Epoch 9, Training loss 0.017665082203149794\n",
      "Accuracy 0.5599\n",
      "2022-09-25 23:29:43.557656 Epoch 10, Training loss 0.017054505878686906\n",
      "Accuracy 0.5683\n",
      "2022-09-25 23:30:18.351506 Epoch 11, Training loss 0.016518129703998567\n",
      "Accuracy 0.6253\n",
      "2022-09-25 23:30:53.127588 Epoch 12, Training loss 0.015958960835933685\n",
      "Accuracy 0.6224\n",
      "2022-09-25 23:31:27.887613 Epoch 13, Training loss 0.015494141937494278\n",
      "Accuracy 0.6555\n",
      "2022-09-25 23:32:02.627911 Epoch 14, Training loss 0.015144522963762284\n",
      "Accuracy 0.6514\n",
      "2022-09-25 23:32:37.387844 Epoch 15, Training loss 0.014758165783882142\n",
      "Accuracy 0.5915\n",
      "2022-09-25 23:33:12.187532 Epoch 16, Training loss 0.014352882353067397\n",
      "Accuracy 0.6463\n",
      "2022-09-25 23:33:46.978679 Epoch 17, Training loss 0.01400699805378914\n",
      "Accuracy 0.5981\n",
      "2022-09-25 23:34:21.744896 Epoch 18, Training loss 0.013676689012050628\n",
      "Accuracy 0.6032\n",
      "2022-09-25 23:34:56.546523 Epoch 19, Training loss 0.013413407707214355\n",
      "Accuracy 0.648\n"
     ]
    }
   ],
   "source": [
    "trained_model = train_model(resnet18, optimizer, loss_fn, cifar10_train_dataloader, cifar10_test_dataloader, 50)"
   ]
  },
  {
   "cell_type": "markdown",
   "metadata": {},
   "source": [
    "## 複数GPUでの学習ループ"
   ]
  },
  {
   "cell_type": "code",
   "execution_count": 3,
   "metadata": {},
   "outputs": [],
   "source": [
    "# 実験\n",
    "def example(rank, world_size):\n",
    "    # create default process group\n",
    "    dist.init_process_group(\"gloo/\", rank=rank, world_size=world_size)\n",
    "    # create local model\n",
    "    model = nn.Linear(10, 10).to(rank)\n",
    "    # construct DDP model\n",
    "    ddp_model = DDP(model, device_ids=[rank])\n",
    "    # define loss function and optimizer\n",
    "    loss_fn = nn.MSELoss()\n",
    "    optimizer = optim.SGD(ddp_model.parameters(), lr=0.001)\n",
    "\n",
    "    # forward pass\n",
    "    outputs = ddp_model(torch.randn(20, 10).to(rank))\n",
    "    labels = torch.randn(20, 10).to(rank)\n",
    "    # backward pass\n",
    "    loss_fn(outputs, labels).backward()\n",
    "    # update parameters\n",
    "    optimizer.step()\n",
    "    \n",
    "def main():\n",
    "    world_size = 2\n",
    "    mp.spawn(example,\n",
    "        args=(world_size,),\n",
    "        nprocs=world_size,\n",
    "        join=True)"
   ]
  },
  {
   "cell_type": "code",
   "execution_count": 5,
   "metadata": {},
   "outputs": [
    {
     "ename": "Exception",
     "evalue": "process 1 terminated with exit code 1",
     "output_type": "error",
     "traceback": [
      "\u001b[0;31m---------------------------------------------------------------------------\u001b[0m",
      "\u001b[0;31mException\u001b[0m                                 Traceback (most recent call last)",
      "\u001b[0;32m<ipython-input-5-a823c7567325>\u001b[0m in \u001b[0;36m<module>\u001b[0;34m\u001b[0m\n\u001b[1;32m      1\u001b[0m \u001b[0mos\u001b[0m\u001b[0;34m.\u001b[0m\u001b[0menviron\u001b[0m\u001b[0;34m[\u001b[0m\u001b[0;34m\"MASTER_ADDR\"\u001b[0m\u001b[0;34m]\u001b[0m \u001b[0;34m=\u001b[0m \u001b[0;34m\"spcc-a40g13\"\u001b[0m\u001b[0;34m\u001b[0m\u001b[0;34m\u001b[0m\u001b[0m\n\u001b[1;32m      2\u001b[0m \u001b[0mos\u001b[0m\u001b[0;34m.\u001b[0m\u001b[0menviron\u001b[0m\u001b[0;34m[\u001b[0m\u001b[0;34m\"MASTER_PORT\"\u001b[0m\u001b[0;34m]\u001b[0m \u001b[0;34m=\u001b[0m \u001b[0;34m\"29500\"\u001b[0m\u001b[0;34m\u001b[0m\u001b[0;34m\u001b[0m\u001b[0m\n\u001b[0;32m----> 3\u001b[0;31m \u001b[0mmain\u001b[0m\u001b[0;34m(\u001b[0m\u001b[0;34m)\u001b[0m\u001b[0;34m\u001b[0m\u001b[0;34m\u001b[0m\u001b[0m\n\u001b[0m",
      "\u001b[0;32m<ipython-input-3-0a8ca2cd91b1>\u001b[0m in \u001b[0;36mmain\u001b[0;34m()\u001b[0m\n\u001b[1;32m     24\u001b[0m         \u001b[0margs\u001b[0m\u001b[0;34m=\u001b[0m\u001b[0;34m(\u001b[0m\u001b[0mworld_size\u001b[0m\u001b[0;34m,\u001b[0m\u001b[0;34m)\u001b[0m\u001b[0;34m,\u001b[0m\u001b[0;34m\u001b[0m\u001b[0;34m\u001b[0m\u001b[0m\n\u001b[1;32m     25\u001b[0m         \u001b[0mnprocs\u001b[0m\u001b[0;34m=\u001b[0m\u001b[0mworld_size\u001b[0m\u001b[0;34m,\u001b[0m\u001b[0;34m\u001b[0m\u001b[0;34m\u001b[0m\u001b[0m\n\u001b[0;32m---> 26\u001b[0;31m         join=True)\n\u001b[0m",
      "\u001b[0;32m/opt/conda/lib/python3.6/site-packages/torch/multiprocessing/spawn.py\u001b[0m in \u001b[0;36mspawn\u001b[0;34m(fn, args, nprocs, join, daemon, start_method)\u001b[0m\n\u001b[1;32m    198\u001b[0m                ' torch.multiprocessing.start_process(...)' % start_method)\n\u001b[1;32m    199\u001b[0m         \u001b[0mwarnings\u001b[0m\u001b[0;34m.\u001b[0m\u001b[0mwarn\u001b[0m\u001b[0;34m(\u001b[0m\u001b[0mmsg\u001b[0m\u001b[0;34m)\u001b[0m\u001b[0;34m\u001b[0m\u001b[0;34m\u001b[0m\u001b[0m\n\u001b[0;32m--> 200\u001b[0;31m     \u001b[0;32mreturn\u001b[0m \u001b[0mstart_processes\u001b[0m\u001b[0;34m(\u001b[0m\u001b[0mfn\u001b[0m\u001b[0;34m,\u001b[0m \u001b[0margs\u001b[0m\u001b[0;34m,\u001b[0m \u001b[0mnprocs\u001b[0m\u001b[0;34m,\u001b[0m \u001b[0mjoin\u001b[0m\u001b[0;34m,\u001b[0m \u001b[0mdaemon\u001b[0m\u001b[0;34m,\u001b[0m \u001b[0mstart_method\u001b[0m\u001b[0;34m=\u001b[0m\u001b[0;34m'spawn'\u001b[0m\u001b[0;34m)\u001b[0m\u001b[0;34m\u001b[0m\u001b[0;34m\u001b[0m\u001b[0m\n\u001b[0m",
      "\u001b[0;32m/opt/conda/lib/python3.6/site-packages/torch/multiprocessing/spawn.py\u001b[0m in \u001b[0;36mstart_processes\u001b[0;34m(fn, args, nprocs, join, daemon, start_method)\u001b[0m\n\u001b[1;32m    156\u001b[0m \u001b[0;34m\u001b[0m\u001b[0m\n\u001b[1;32m    157\u001b[0m     \u001b[0;31m# Loop on join until it returns True or raises an exception.\u001b[0m\u001b[0;34m\u001b[0m\u001b[0;34m\u001b[0m\u001b[0;34m\u001b[0m\u001b[0m\n\u001b[0;32m--> 158\u001b[0;31m     \u001b[0;32mwhile\u001b[0m \u001b[0;32mnot\u001b[0m \u001b[0mcontext\u001b[0m\u001b[0;34m.\u001b[0m\u001b[0mjoin\u001b[0m\u001b[0;34m(\u001b[0m\u001b[0;34m)\u001b[0m\u001b[0;34m:\u001b[0m\u001b[0;34m\u001b[0m\u001b[0;34m\u001b[0m\u001b[0m\n\u001b[0m\u001b[1;32m    159\u001b[0m         \u001b[0;32mpass\u001b[0m\u001b[0;34m\u001b[0m\u001b[0;34m\u001b[0m\u001b[0m\n\u001b[1;32m    160\u001b[0m \u001b[0;34m\u001b[0m\u001b[0m\n",
      "\u001b[0;32m/opt/conda/lib/python3.6/site-packages/torch/multiprocessing/spawn.py\u001b[0m in \u001b[0;36mjoin\u001b[0;34m(self, timeout)\u001b[0m\n\u001b[1;32m    111\u001b[0m                 raise Exception(\n\u001b[1;32m    112\u001b[0m                     \u001b[0;34m\"process %d terminated with exit code %d\"\u001b[0m \u001b[0;34m%\u001b[0m\u001b[0;34m\u001b[0m\u001b[0;34m\u001b[0m\u001b[0m\n\u001b[0;32m--> 113\u001b[0;31m                     \u001b[0;34m(\u001b[0m\u001b[0merror_index\u001b[0m\u001b[0;34m,\u001b[0m \u001b[0mexitcode\u001b[0m\u001b[0;34m)\u001b[0m\u001b[0;34m\u001b[0m\u001b[0;34m\u001b[0m\u001b[0m\n\u001b[0m\u001b[1;32m    114\u001b[0m                 )\n\u001b[1;32m    115\u001b[0m \u001b[0;34m\u001b[0m\u001b[0m\n",
      "\u001b[0;31mException\u001b[0m: process 1 terminated with exit code 1"
     ]
    }
   ],
   "source": [
    "os.environ[\"MASTER_ADDR\"] = \"spcc-a40g13\"\n",
    "os.environ[\"MASTER_PORT\"] = \"29500\"\n",
    "main()"
   ]
  },
  {
   "cell_type": "code",
   "execution_count": null,
   "metadata": {},
   "outputs": [],
   "source": [
    "def train_model_ddp(\n",
    "    rank, world_size, model, loss_fn, optimizer, train_dataloader, test_dataloader, n_epochs):\n",
    "    # create default process group\n",
    "    dist.init_process_group(\"nvcc\", rank=rank, world_size=world_size)\n",
    "    # construct DDP model\n",
    "    ddp_model = DDP(model, device_ids=[rank])\n",
    "    # define loss function and optimizer\n",
    "    optimizer = optim.SGD(model.parameters(), lr=1e-2)\n",
    "    \n",
    "    for n_epoch in range(n_epochs):\n",
    "        loss_train = 0.0\n",
    "        for imgs, labels in train_dataloader:\n",
    "            # forward pass\n",
    "            imgs = imgs.to(device=device)\n",
    "            labels = labels.to(device=device)\n",
    "            outputs = model(imgs)\n",
    "            loss = loss_fn(outputs, labels)\n",
    "\n",
    "            optimizer.zero_grad()\n",
    "            loss.backward()\n",
    "            optimizer.step()\n",
    "            loss_train += loss.item()\n",
    "\n",
    "    # forward pass\n",
    "    outputs = ddp_model(torch.randn(20, 10).to(rank))\n",
    "    labels = torch.randn(20, 10).to(rank)\n",
    "    # backward pass\n",
    "    loss_fn(outputs, labels).backward()\n",
    "    # update parameters\n",
    "    optimizer.step()"
   ]
  }
 ],
 "metadata": {
  "kernelspec": {
   "display_name": "Python 3",
   "language": "python",
   "name": "python3"
  },
  "language_info": {
   "codemirror_mode": {
    "name": "ipython",
    "version": 3
   },
   "file_extension": ".py",
   "mimetype": "text/x-python",
   "name": "python",
   "nbconvert_exporter": "python",
   "pygments_lexer": "ipython3",
   "version": "3.6.10"
  }
 },
 "nbformat": 4,
 "nbformat_minor": 4
}
